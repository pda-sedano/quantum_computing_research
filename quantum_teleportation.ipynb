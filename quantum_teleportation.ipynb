{
  "cells": [
    {
      "cell_type": "markdown",
      "metadata": {
        "id": "view-in-github",
        "colab_type": "text"
      },
      "source": [
        "<a href=\"https://colab.research.google.com/github/pda-sedano/quantum_computing_research/blob/main/quantum_teleportation.ipynb\" target=\"_parent\"><img src=\"https://colab.research.google.com/assets/colab-badge.svg\" alt=\"Open In Colab\"/></a>"
      ]
    },
    {
      "cell_type": "code",
      "source": [
        "# Restarts kernel\n",
        "# From comment on https://stackoverflow.com/a/64356932/7233512\n",
        "# import os\n",
        "# os._exit(00)"
      ],
      "metadata": {
        "id": "U-2CoGUFU77W"
      },
      "id": "U-2CoGUFU77W",
      "execution_count": 1,
      "outputs": []
    },
    {
      "cell_type": "code",
      "source": [
        "# Installs missing packages\n",
        "# !pip install qiskit\n",
        "# !pip install qiskit_aer\n",
        "# !pip install pylatexenc"
      ],
      "metadata": {
        "id": "OiESj72uT5NA"
      },
      "id": "OiESj72uT5NA",
      "execution_count": 2,
      "outputs": []
    },
    {
      "cell_type": "code",
      "execution_count": 3,
      "id": "01f08d09-f288-44e5-8bec-d6257eb472b0",
      "metadata": {
        "id": "01f08d09-f288-44e5-8bec-d6257eb472b0"
      },
      "outputs": [],
      "source": [
        "import numpy as np\n",
        "from qiskit import QuantumCircuit, transpile\n",
        "from qiskit_aer import Aer\n",
        "from qiskit.quantum_info import partial_trace, Statevector\n",
        "from qiskit.visualization import plot_histogram"
      ]
    },
    {
      "cell_type": "code",
      "execution_count": 4,
      "id": "61d9e043-6091-4ef2-8e8e-35c0d77f74ba",
      "metadata": {
        "colab": {
          "base_uri": "https://localhost:8080/"
        },
        "id": "61d9e043-6091-4ef2-8e8e-35c0d77f74ba",
        "outputId": "21c90190-2c85-47e3-cb19-8f550a5280e7"
      },
      "outputs": [
        {
          "output_type": "stream",
          "name": "stdout",
          "text": [
            "Initial state:\n",
            "Statevector([0.66867793+0.j        , 0.72067403+0.18302671j,\n",
            "             0.        +0.j        , 0.        +0.j        ,\n",
            "             0.        +0.j        , 0.        +0.j        ,\n",
            "             0.        +0.j        , 0.        +0.j        ],\n",
            "            dims=(2, 2, 2))\n",
            "After qubits 1 and 2 entangled:\n",
            "Statevector([0.4728267 +0.j        , 0.50959349+0.12941943j,\n",
            "             0.        +0.j        , 0.        +0.j        ,\n",
            "             0.        +0.j        , 0.        +0.j        ,\n",
            "             0.4728267 +0.j        , 0.50959349+0.12941943j],\n",
            "            dims=(2, 2, 2))\n",
            "Once Bell basis converted to computational basis:\n",
            "Statevector([ 0.33433896+0.j        ,  0.33433896+0.j        ,\n",
            "              0.36033701+0.09151335j, -0.36033701-0.09151335j,\n",
            "              0.36033701+0.09151335j, -0.36033701-0.09151335j,\n",
            "              0.33433896+0.j        ,  0.33433896+0.j        ],\n",
            "            dims=(2, 2, 2))\n",
            "{'011': 1}\n",
            "After Bell basis measurement:\n",
            "Statevector([ 0.        +0.j        ,  0.        +0.j        ,\n",
            "              0.        +0.j        , -0.72067403-0.18302671j,\n",
            "              0.        +0.j        ,  0.        -0.j        ,\n",
            "              0.        +0.j        ,  0.66867793+0.j        ],\n",
            "            dims=(2, 2, 2))\n",
            "DensityMatrix([[ 0.55286983+0.j        , -0.48189881-0.12238592j],\n",
            "               [-0.48189881+0.12238592j,  0.44713017+0.j        ]],\n",
            "              dims=(2,))\n",
            "State vector of qubit 2 after Bell basis measurement:\n",
            "Statevector([ 0.74355217+0.j        , -0.64810357+0.16459628j],\n",
            "            dims=(2,))\n",
            "XZ\n",
            "Statevector([0.66867793+2.77555756e-17j, 0.72067403+1.83026708e-01j],\n",
            "            dims=(2,))\n"
          ]
        }
      ],
      "source": [
        "simulator = Aer.get_backend('statevector_simulator')\n",
        "qc = QuantumCircuit(3, 3)\n",
        "qc.initialize(np.random.rand(2) + [0, 1j * np.random.rand()], 0, normalize=True) # State to be teleported\n",
        "\n",
        "print('Initial state:')\n",
        "print(Statevector(qc))\n",
        "\n",
        "# Alice generates entangled pair\n",
        "qc.h(1)\n",
        "qc.cx(1, 2)\n",
        "\n",
        "\n",
        "print('After qubits 1 and 2 entangled:')\n",
        "print(Statevector(qc)) # Seems good up to here\n",
        "\n",
        "# |\n",
        "# |\n",
        "# (Alice sends off qubit 2 to Bob)\n",
        "# |\n",
        "# |\n",
        "# V\n",
        "# Alice prepares to measure qubits 0 and 1 in the Bell basis\n",
        "qc.cx(0, 1)\n",
        "qc.h(0)\n",
        "\n",
        "print('Once Bell basis converted to computational basis:')\n",
        "print(Statevector(qc)) # Looks good up to here\n",
        "\n",
        "qc.measure([0, 1], [0, 1])\n",
        "qc_compiled = transpile(qc, simulator)\n",
        "job = simulator.run(qc_compiled, shots=1)\n",
        "\n",
        "# Alice sends measurement result to Bob\n",
        "result = job.result()\n",
        "counts = result.get_counts(qc_compiled)\n",
        "print(counts)\n",
        "plot_histogram(counts)\n",
        "state_vector = result.get_statevector()\n",
        "print('After Bell basis measurement:')\n",
        "print(state_vector) # Looks good up to here\n",
        "\n",
        "# Extract last qubit from state vector\n",
        "# Technique from this answer: https://quantumcomputing.stackexchange.com/a/16093\n",
        "density_matrix = partial_trace(state_vector, [0, 1])\n",
        "print(density_matrix)\n",
        "print('State vector of qubit 2 after Bell basis measurement:')\n",
        "bobs_qubit = density_matrix.to_statevector()\n",
        "print(bobs_qubit)\n",
        "\n",
        "# Bob applies proper Pauli matrices\n",
        "bobs_circuit = QuantumCircuit(1)\n",
        "proper_gate_according_to_measurement = {'00': 'I', '01': 'Z', '10': 'X', '11': 'XZ'}\n",
        "gate = proper_gate_according_to_measurement[list(counts.keys())[0][1:]]\n",
        "print(gate)\n",
        "\n",
        "if gate == 'XZ':\n",
        "    bobs_circuit.pauli('Z', [0])\n",
        "    bobs_circuit.pauli('X', [0])\n",
        "elif gate != 'I':\n",
        "    bobs_circuit.pauli(gate, [0])\n",
        "\n",
        "bobs_qubit = bobs_qubit.evolve(bobs_circuit)\n",
        "bobs_qubit *= np.abs(bobs_qubit[0]) / bobs_qubit[0]\n",
        "print(bobs_qubit)"
      ]
    },
    {
      "cell_type": "code",
      "execution_count": 5,
      "id": "90774906-ddda-43a0-a21d-fa9a8fd9f62e",
      "metadata": {
        "colab": {
          "base_uri": "https://localhost:8080/",
          "height": 320
        },
        "id": "90774906-ddda-43a0-a21d-fa9a8fd9f62e",
        "outputId": "8e166f81-8b2c-4a1f-f910-e3443cf121b4"
      },
      "outputs": [
        {
          "output_type": "execute_result",
          "data": {
            "text/plain": [
              "<Figure size 705.552x367.889 with 1 Axes>"
            ],
            "image/png": "[encoded data removed]"
          },
          "metadata": {},
          "execution_count": 5
        }
      ],
      "source": [
        "qc.draw('mpl')"
      ]
    },
    {
      "cell_type": "code",
      "execution_count": 6,
      "id": "922446fb-9c88-48df-8f3b-5e8af36ae528",
      "metadata": {
        "colab": {
          "base_uri": "https://localhost:8080/",
          "height": 127
        },
        "id": "922446fb-9c88-48df-8f3b-5e8af36ae528",
        "outputId": "cbabc0a0-319b-420c-c40c-ab1b9b1f9ec2"
      },
      "outputs": [
        {
          "output_type": "execute_result",
          "data": {
            "text/plain": [
              "<Figure size 269.064x117.056 with 1 Axes>"
            ],
            "image/png": "[encoded data removed]"
          },
          "metadata": {},
          "execution_count": 6
        }
      ],
      "source": [
        "bobs_circuit.draw('mpl')"
      ]
    }
  ],
  "metadata": {
    "kernelspec": {
      "display_name": "Python 3 (ipykernel)",
      "language": "python",
      "name": "python3"
    },
    "language_info": {
      "codemirror_mode": {
        "name": "ipython",
        "version": 3
      },
      "file_extension": ".py",
      "mimetype": "text/x-python",
      "name": "python",
      "nbconvert_exporter": "python",
      "pygments_lexer": "ipython3",
      "version": "3.9.6"
    },
    "colab": {
      "provenance": [],
      "include_colab_link": true
    }
  },
  "nbformat": 4,
  "nbformat_minor": 5
}