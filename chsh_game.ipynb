{
  "cells": [
    {
      "cell_type": "markdown",
      "metadata": {
        "id": "view-in-github",
        "colab_type": "text"
      },
      "source": [
        "<a href=\"https://colab.research.google.com/github/pda-sedano/quantum_computing_research/blob/main/chsh_game.ipynb\" target=\"_parent\"><img src=\"https://colab.research.google.com/assets/colab-badge.svg\" alt=\"Open In Colab\"/></a>"
      ]
    },
    {
      "cell_type": "code",
      "source": [
        "# Restarts kernel\n",
        "# From comment on https://stackoverflow.com/a/64356932/7233512\n",
        "# import os\n",
        "# os._exit(00)"
      ],
      "metadata": {
        "id": "qJUIdZe92IFQ"
      },
      "id": "qJUIdZe92IFQ",
      "execution_count": null,
      "outputs": []
    },
    {
      "cell_type": "code",
      "source": [
        "# Installs missing packages\n",
        "!pip install qiskit\n",
        "!pip install qiskit_aer\n",
        "!pip install pylatexenc"
      ],
      "metadata": {
        "colab": {
          "base_uri": "https://localhost:8080/"
        },
        "id": "YG2XyGHV2M__",
        "outputId": "7c11d7b3-d17c-4c8b-dd53-5b74d8eeaf91"
      },
      "id": "YG2XyGHV2M__",
      "execution_count": 1,
      "outputs": [
        {
          "output_type": "stream",
          "name": "stdout",
          "text": [
            "Collecting qiskit\n",
            "  Downloading qiskit-0.45.0-py3-none-any.whl (9.6 kB)\n",
            "Collecting qiskit-terra==0.45.0 (from qiskit)\n",
            "  Downloading qiskit_terra-0.45.0-cp38-abi3-manylinux_2_17_x86_64.manylinux2014_x86_64.whl (6.3 MB)\n",
            "\u001b[2K     \u001b[90m━━━━━━━━━━━━━━━━━━━━━━━━━━━━━━━━━━━━━━━━\u001b[0m \u001b[32m6.3/6.3 MB\u001b[0m \u001b[31m40.3 MB/s\u001b[0m eta \u001b[36m0:00:00\u001b[0m\n",
            "\u001b[?25hCollecting rustworkx>=0.13.0 (from qiskit-terra==0.45.0->qiskit)\n",
            "  Downloading rustworkx-0.13.2-cp310-cp310-manylinux_2_17_x86_64.manylinux2014_x86_64.whl (2.0 MB)\n",
            "\u001b[2K     \u001b[90m━━━━━━━━━━━━━━━━━━━━━━━━━━━━━━━━━━━━━━━━\u001b[0m \u001b[32m2.0/2.0 MB\u001b[0m \u001b[31m82.5 MB/s\u001b[0m eta \u001b[36m0:00:00\u001b[0m\n",
            "\u001b[?25hRequirement already satisfied: numpy<2,>=1.17 in /usr/local/lib/python3.10/dist-packages (from qiskit-terra==0.45.0->qiskit) (1.23.5)\n",
            "Collecting ply>=3.10 (from qiskit-terra==0.45.0->qiskit)\n",
            "  Downloading ply-3.11-py2.py3-none-any.whl (49 kB)\n",
            "\u001b[2K     \u001b[90m━━━━━━━━━━━━━━━━━━━━━━━━━━━━━━━━━━━━━━━━\u001b[0m \u001b[32m49.6/49.6 kB\u001b[0m \u001b[31m5.9 MB/s\u001b[0m eta \u001b[36m0:00:00\u001b[0m\n",
            "\u001b[?25hRequirement already satisfied: psutil>=5 in /usr/local/lib/python3.10/dist-packages (from qiskit-terra==0.45.0->qiskit) (5.9.5)\n",
            "Requirement already satisfied: scipy>=1.5 in /usr/local/lib/python3.10/dist-packages (from qiskit-terra==0.45.0->qiskit) (1.11.3)\n",
            "Requirement already satisfied: sympy>=1.3 in /usr/local/lib/python3.10/dist-packages (from qiskit-terra==0.45.0->qiskit) (1.12)\n",
            "Collecting dill>=0.3 (from qiskit-terra==0.45.0->qiskit)\n",
            "  Downloading dill-0.3.7-py3-none-any.whl (115 kB)\n",
            "\u001b[2K     \u001b[90m━━━━━━━━━━━━━━━━━━━━━━━━━━━━━━━━━━━━━━━━\u001b[0m \u001b[32m115.3/115.3 kB\u001b[0m \u001b[31m14.6 MB/s\u001b[0m eta \u001b[36m0:00:00\u001b[0m\n",
            "\u001b[?25hRequirement already satisfied: python-dateutil>=2.8.0 in /usr/local/lib/python3.10/dist-packages (from qiskit-terra==0.45.0->qiskit) (2.8.2)\n",
            "Collecting stevedore>=3.0.0 (from qiskit-terra==0.45.0->qiskit)\n",
            "  Downloading stevedore-5.1.0-py3-none-any.whl (49 kB)\n",
            "\u001b[2K     \u001b[90m━━━━━━━━━━━━━━━━━━━━━━━━━━━━━━━━━━━━━━━━\u001b[0m \u001b[32m49.6/49.6 kB\u001b[0m \u001b[31m4.1 MB/s\u001b[0m eta \u001b[36m0:00:00\u001b[0m\n",
            "\u001b[?25hCollecting symengine<0.10,>=0.9 (from qiskit-terra==0.45.0->qiskit)\n",
            "  Downloading symengine-0.9.2-cp310-cp310-manylinux2010_x86_64.whl (37.5 MB)\n",
            "\u001b[2K     \u001b[90m━━━━━━━━━━━━━━━━━━━━━━━━━━━━━━━━━━━━━━━━\u001b[0m \u001b[32m37.5/37.5 MB\u001b[0m \u001b[31m23.5 MB/s\u001b[0m eta \u001b[36m0:00:00\u001b[0m\n",
            "\u001b[?25hRequirement already satisfied: typing-extensions in /usr/local/lib/python3.10/dist-packages (from qiskit-terra==0.45.0->qiskit) (4.5.0)\n",
            "Requirement already satisfied: six>=1.5 in /usr/local/lib/python3.10/dist-packages (from python-dateutil>=2.8.0->qiskit-terra==0.45.0->qiskit) (1.16.0)\n",
            "Collecting pbr!=2.1.0,>=2.0.0 (from stevedore>=3.0.0->qiskit-terra==0.45.0->qiskit)\n",
            "  Downloading pbr-6.0.0-py2.py3-none-any.whl (107 kB)\n",
            "\u001b[2K     \u001b[90m━━━━━━━━━━━━━━━━━━━━━━━━━━━━━━━━━━━━━━━━\u001b[0m \u001b[32m107.5/107.5 kB\u001b[0m \u001b[31m7.3 MB/s\u001b[0m eta \u001b[36m0:00:00\u001b[0m\n",
            "\u001b[?25hRequirement already satisfied: mpmath>=0.19 in /usr/local/lib/python3.10/dist-packages (from sympy>=1.3->qiskit-terra==0.45.0->qiskit) (1.3.0)\n",
            "Installing collected packages: ply, symengine, rustworkx, pbr, dill, stevedore, qiskit-terra, qiskit\n",
            "Successfully installed dill-0.3.7 pbr-6.0.0 ply-3.11 qiskit-0.45.0 qiskit-terra-0.45.0 rustworkx-0.13.2 stevedore-5.1.0 symengine-0.9.2\n",
            "Collecting qiskit_aer\n",
            "  Downloading qiskit_aer-0.13.0-cp310-cp310-manylinux_2_17_x86_64.manylinux2014_x86_64.whl (12.3 MB)\n",
            "\u001b[2K     \u001b[90m━━━━━━━━━━━━━━━━━━━━━━━━━━━━━━━━━━━━━━━━\u001b[0m \u001b[32m12.3/12.3 MB\u001b[0m \u001b[31m34.5 MB/s\u001b[0m eta \u001b[36m0:00:00\u001b[0m\n",
            "\u001b[?25hRequirement already satisfied: qiskit>=0.44.0 in /usr/local/lib/python3.10/dist-packages (from qiskit_aer) (0.45.0)\n",
            "Requirement already satisfied: numpy>=1.16.3 in /usr/local/lib/python3.10/dist-packages (from qiskit_aer) (1.23.5)\n",
            "Requirement already satisfied: scipy>=1.0 in /usr/local/lib/python3.10/dist-packages (from qiskit_aer) (1.11.3)\n",
            "Requirement already satisfied: qiskit-terra==0.45.0 in /usr/local/lib/python3.10/dist-packages (from qiskit>=0.44.0->qiskit_aer) (0.45.0)\n",
            "Requirement already satisfied: rustworkx>=0.13.0 in /usr/local/lib/python3.10/dist-packages (from qiskit-terra==0.45.0->qiskit>=0.44.0->qiskit_aer) (0.13.2)\n",
            "Requirement already satisfied: ply>=3.10 in /usr/local/lib/python3.10/dist-packages (from qiskit-terra==0.45.0->qiskit>=0.44.0->qiskit_aer) (3.11)\n",
            "Requirement already satisfied: psutil>=5 in /usr/local/lib/python3.10/dist-packages (from qiskit-terra==0.45.0->qiskit>=0.44.0->qiskit_aer) (5.9.5)\n",
            "Requirement already satisfied: sympy>=1.3 in /usr/local/lib/python3.10/dist-packages (from qiskit-terra==0.45.0->qiskit>=0.44.0->qiskit_aer) (1.12)\n",
            "Requirement already satisfied: dill>=0.3 in /usr/local/lib/python3.10/dist-packages (from qiskit-terra==0.45.0->qiskit>=0.44.0->qiskit_aer) (0.3.7)\n",
            "Requirement already satisfied: python-dateutil>=2.8.0 in /usr/local/lib/python3.10/dist-packages (from qiskit-terra==0.45.0->qiskit>=0.44.0->qiskit_aer) (2.8.2)\n",
            "Requirement already satisfied: stevedore>=3.0.0 in /usr/local/lib/python3.10/dist-packages (from qiskit-terra==0.45.0->qiskit>=0.44.0->qiskit_aer) (5.1.0)\n",
            "Requirement already satisfied: symengine<0.10,>=0.9 in /usr/local/lib/python3.10/dist-packages (from qiskit-terra==0.45.0->qiskit>=0.44.0->qiskit_aer) (0.9.2)\n",
            "Requirement already satisfied: typing-extensions in /usr/local/lib/python3.10/dist-packages (from qiskit-terra==0.45.0->qiskit>=0.44.0->qiskit_aer) (4.5.0)\n",
            "Requirement already satisfied: six>=1.5 in /usr/local/lib/python3.10/dist-packages (from python-dateutil>=2.8.0->qiskit-terra==0.45.0->qiskit>=0.44.0->qiskit_aer) (1.16.0)\n",
            "Requirement already satisfied: pbr!=2.1.0,>=2.0.0 in /usr/local/lib/python3.10/dist-packages (from stevedore>=3.0.0->qiskit-terra==0.45.0->qiskit>=0.44.0->qiskit_aer) (6.0.0)\n",
            "Requirement already satisfied: mpmath>=0.19 in /usr/local/lib/python3.10/dist-packages (from sympy>=1.3->qiskit-terra==0.45.0->qiskit>=0.44.0->qiskit_aer) (1.3.0)\n",
            "Installing collected packages: qiskit_aer\n",
            "Successfully installed qiskit_aer-0.13.0\n",
            "Collecting pylatexenc\n",
            "  Downloading pylatexenc-2.10.tar.gz (162 kB)\n",
            "\u001b[2K     \u001b[90m━━━━━━━━━━━━━━━━━━━━━━━━━━━━━━━━━━━━━━━━\u001b[0m \u001b[32m162.6/162.6 kB\u001b[0m \u001b[31m3.4 MB/s\u001b[0m eta \u001b[36m0:00:00\u001b[0m\n",
            "\u001b[?25h  Preparing metadata (setup.py) ... \u001b[?25l\u001b[?25hdone\n",
            "Building wheels for collected packages: pylatexenc\n",
            "  Building wheel for pylatexenc (setup.py) ... \u001b[?25l\u001b[?25hdone\n",
            "  Created wheel for pylatexenc: filename=pylatexenc-2.10-py3-none-any.whl size=136818 sha256=6dcff7db1facf54d128191dcd8cb843d8564152da89d6530c6eaed2b91c5d245\n",
            "  Stored in directory: /root/.cache/pip/wheels/d3/31/8b/e09b0386afd80cfc556c00408c9aeea5c35c4d484a9c762fd5\n",
            "Successfully built pylatexenc\n",
            "Installing collected packages: pylatexenc\n",
            "Successfully installed pylatexenc-2.10\n"
          ]
        }
      ]
    },
    {
      "cell_type": "code",
      "execution_count": 2,
      "id": "70140f96",
      "metadata": {
        "id": "70140f96"
      },
      "outputs": [],
      "source": [
        "import math\n",
        "import numpy as np\n",
        "from qiskit import QuantumCircuit, transpile\n",
        "from qiskit_aer import AerSimulator\n",
        "from qiskit.visualization import plot_histogram"
      ]
    },
    {
      "cell_type": "code",
      "execution_count": 3,
      "id": "8c6bb7fc-bea3-44d3-b17c-4c20541f633e",
      "metadata": {
        "id": "8c6bb7fc-bea3-44d3-b17c-4c20541f633e"
      },
      "outputs": [],
      "source": [
        "win_message = 'Yay!! You win!'\n",
        "lose_message = 'Awww... you lose :('\n",
        "\n",
        "def chsh_game(send_to_alice, send_to_bob, get_output_bits, verbose=False):\n",
        "    # choose bits at random\n",
        "    x, y = np.random.randint(2, size=2)\n",
        "\n",
        "    send_to_alice(x)\n",
        "    send_to_bob(y)\n",
        "\n",
        "    a, b = get_output_bits()\n",
        "\n",
        "    won = (a ^ b) == (x & y)\n",
        "\n",
        "    if verbose:\n",
        "        print(win_message if won else lose_message)\n",
        "\n",
        "    return won"
      ]
    },
    {
      "cell_type": "code",
      "execution_count": 4,
      "id": "0981306f-2883-41ec-9778-94d553d6b70f",
      "metadata": {
        "id": "0981306f-2883-41ec-9778-94d553d6b70f"
      },
      "outputs": [],
      "source": [
        "bits = [0, 0]\n",
        "\n",
        "def get_output_bits():\n",
        "    return bits\n",
        "\n",
        "def get_result(bit, index):\n",
        "    print(f'The referee has given you the bit {bit}')\n",
        "\n",
        "    while True:\n",
        "        result = input('Enter 0 or 1: ')\n",
        "\n",
        "        if result == '0' or result == '1':\n",
        "            bits[index] = int(result)\n",
        "            break\n",
        "\n",
        "        print('Invalid input, please try again.')"
      ]
    },
    {
      "cell_type": "code",
      "execution_count": 5,
      "id": "1cc82dfb-b15c-4af1-9072-8b2b12a8cbbc",
      "metadata": {
        "colab": {
          "base_uri": "https://localhost:8080/"
        },
        "id": "1cc82dfb-b15c-4af1-9072-8b2b12a8cbbc",
        "outputId": "23cd97f8-3d71-40c0-f681-33a190b9e6c0"
      },
      "outputs": [
        {
          "output_type": "stream",
          "name": "stdout",
          "text": [
            "The referee has given you the bit 1\n",
            "Enter 0 or 1: 0\n",
            "The referee has given you the bit 0\n",
            "Enter 0 or 1: sdfsdf\n",
            "Invalid input, please try again.\n",
            "Enter 0 or 1: np\n",
            "Invalid input, please try again.\n",
            "Enter 0 or 1: 1.0\n",
            "Invalid input, please try again.\n",
            "Enter 0 or 1: 1\n",
            "Awww... you lose :(\n"
          ]
        },
        {
          "output_type": "execute_result",
          "data": {
            "text/plain": [
              "False"
            ]
          },
          "metadata": {},
          "execution_count": 5
        }
      ],
      "source": [
        "\n",
        "chsh_game(lambda x : get_result(x, 0), lambda y : get_result(y, 1), get_output_bits, True)"
      ]
    },
    {
      "cell_type": "code",
      "execution_count": 6,
      "id": "c2312e41-4ed1-468b-a21e-27e380017c03",
      "metadata": {
        "colab": {
          "base_uri": "https://localhost:8080/"
        },
        "id": "c2312e41-4ed1-468b-a21e-27e380017c03",
        "outputId": "20dc19e7-940a-4b70-c25c-351e87993fb2"
      },
      "outputs": [
        {
          "output_type": "stream",
          "name": "stdout",
          "text": [
            "Win rate: 0.772\n"
          ]
        }
      ],
      "source": [
        "# optimal classical strategy (always output the same) - 75% win rate\n",
        "number_of_trials = 1000\n",
        "number_of_wins = 0\n",
        "\n",
        "for i in range(number_of_trials):\n",
        "    number_of_wins += chsh_game(lambda x : x, lambda y : y, lambda : (1, 1))\n",
        "\n",
        "print(f'Win rate: {number_of_wins / number_of_trials}')"
      ]
    },
    {
      "cell_type": "code",
      "execution_count": 7,
      "id": "26ae5544-9578-47d1-8ba7-fb756493c526",
      "metadata": {
        "colab": {
          "base_uri": "https://localhost:8080/"
        },
        "id": "26ae5544-9578-47d1-8ba7-fb756493c526",
        "outputId": "e5e2f0ff-7253-49fb-bf75-fea5c87b4b3d"
      },
      "outputs": [
        {
          "output_type": "stream",
          "name": "stdout",
          "text": [
            "Win rate: 0.835\n"
          ]
        }
      ],
      "source": [
        "# Optimal quantum strategy - approx. 85% win rate\n",
        "simulator = AerSimulator()\n",
        "\n",
        "# Determines which basis to measure in\n",
        "def add_measurement(qubit, setting):\n",
        "    if qubit == 0:\n",
        "        # TODO: Determine why this doesn't work\n",
        "        #if setting:\n",
        "         #   circuit.h(0)\n",
        "        circuit.ry(setting * math.tau / 4, 0)\n",
        "\n",
        "    if qubit == 1:\n",
        "        circuit.ry((-1) ** setting * math.tau / 8, 1)\n",
        "\n",
        "def get_output_bits():\n",
        "    circuit.measure([0, 1], [0, 1]) # measure qubit at index and store result in classical bit\n",
        "\n",
        "    # Run simulation\n",
        "    compiled_circuit = transpile(circuit, simulator)\n",
        "    job = simulator.run(compiled_circuit, shots=1)\n",
        "    result = job.result()\n",
        "    counts = result.get_counts(compiled_circuit)\n",
        "    bits = counts.most_frequent()\n",
        "\n",
        "    return [int(bit) for bit in bits]\n",
        "\n",
        "# Simulate CHSH game\n",
        "number_of_trials = 1000\n",
        "number_of_wins = 0\n",
        "\n",
        "for i in range(number_of_trials):\n",
        "    circuit = QuantumCircuit(2, 2) # 2 qubits, 2 classical bits\n",
        "\n",
        "    # Prepare Bell state\n",
        "    circuit.h(0) # Add Hadamard gate at qubit 0\n",
        "    circuit.cx(0, 1) # Add CNOT gate with qubit 0 as control qubit and qubit 1 as target qubit\n",
        "\n",
        "    number_of_wins += chsh_game(lambda x : add_measurement(0, x), lambda y : add_measurement(1, y),\n",
        "                                get_output_bits)\n",
        "\n",
        "print(f'Win rate: {number_of_wins / number_of_trials}')"
      ]
    },
    {
      "cell_type": "code",
      "execution_count": 8,
      "id": "c7fa9842-8b06-4e40-b27f-b1f680a3e544",
      "metadata": {
        "colab": {
          "base_uri": "https://localhost:8080/",
          "height": 311
        },
        "id": "c7fa9842-8b06-4e40-b27f-b1f680a3e544",
        "outputId": "adbc2d40-fa3c-4780-805a-a3d1479fd4a9"
      },
      "outputs": [
        {
          "output_type": "stream",
          "name": "stderr",
          "text": [
            "/usr/local/lib/python3.10/dist-packages/qiskit/visualization/circuit/matplotlib.py:266: FutureWarning: The default matplotlib drawer scheme will be changed to \"iqp\" in a following release. To silence this warning, specify the current default explicitly as style=\"clifford\", or the new default as style=\"iqp\".\n",
            "  self._style, def_font_ratio = load_style(self._style)\n"
          ]
        },
        {
          "output_type": "execute_result",
          "data": {
            "text/plain": [
              "<Figure size 538.128x284.278 with 1 Axes>"
            ],
            "image/png": "[encoded data removed]"
          },
          "metadata": {},
          "execution_count": 8
        }
      ],
      "source": [
        "circuit.draw('mpl')"
      ]
    }
  ],
  "metadata": {
    "kernelspec": {
      "display_name": "Python 3 (ipykernel)",
      "language": "python",
      "name": "python3"
    },
    "language_info": {
      "codemirror_mode": {
        "name": "ipython",
        "version": 3
      },
      "file_extension": ".py",
      "mimetype": "text/x-python",
      "name": "python",
      "nbconvert_exporter": "python",
      "pygments_lexer": "ipython3",
      "version": "3.9.6"
    },
    "colab": {
      "provenance": [],
      "include_colab_link": true
    }
  },
  "nbformat": 4,
  "nbformat_minor": 5
}